{
 "cells": [
  {
   "cell_type": "code",
   "execution_count": 45,
   "metadata": {},
   "outputs": [
    {
     "name": "stdout",
     "output_type": "stream",
     "text": [
      "No_show\n",
      "0    0.798102\n",
      "1    0.201898\n",
      "Name: proportion, dtype: float64\n"
     ]
    }
   ],
   "source": [
    "import pandas as pd\n",
    "# Load dataset\n",
    "df = pd.read_csv('../Data/medical_no_show.csv')\n",
    "#date time manage\n",
    "df['ScheduledDay'] = pd.to_datetime(df['ScheduledDay'])\n",
    "df['AppointmentDay'] = pd.to_datetime(df['AppointmentDay'])\n",
    "df['No_show'] = (df['No-show'] == 'Yes').astype(int)\n",
    "# Drop unused columns\n",
    "df.drop(['No-show','PatientId','AppointmentID'], axis=1, inplace=True)\n",
    "# waiting days\n",
    "df['WaitingDays'] = (df['AppointmentDay'].dt.normalize() - df['ScheduledDay'].dt.normalize()).dt.days\n",
    "df = df[(df['WaitingDays'] >= 0) & (df['Age'] >= 0)]\n",
    "\n",
    "print(df['No_show'].value_counts(normalize=True)) # imbalanced data"
   ]
  },
  {
   "cell_type": "markdown",
   "id": "0e6d2c49",
   "metadata": {},
   "source": [
    "### As we can see the data is imabalanced"
   ]
  },
  {
   "cell_type": "markdown",
   "metadata": {},
   "source": [
    "## Preprocessing and Feature Engineering"
   ]
  },
  {
   "cell_type": "code",
   "execution_count": 46,
   "metadata": {},
   "outputs": [],
   "source": [
    "# Encode categorical and binary features\n",
    "df['Gender'] = (df['Gender']=='M').astype(int)\n",
    "for col in ['Scholarship','Hipertension','Diabetes','Alcoholism','Handcap','SMS_received']:\n",
    "    df[col] = df[col].astype(int)\n",
    "# Extract and one-hot encode appointment weekday\n",
    "df['Weekday'] = df['AppointmentDay'].dt.weekday\n",
    "weekday_dummies = pd.get_dummies(df['Weekday'], prefix='WD', drop_first=True)\n",
    "df = pd.concat([df, weekday_dummies], axis=1)\n",
    "# Drop date cols\n",
    "df.drop(['ScheduledDay','AppointmentDay','Weekday'], axis=1, inplace=True)\n",
    "# Label encode neighbourhood\n",
    "df['Neighbourhood'] = df['Neighbourhood'].astype('category').cat.codes"
   ]
  },
  {
   "cell_type": "markdown",
   "metadata": {},
   "source": [
    "## Train-Test Split, Scaling, and Class Imbalance Handling"
   ]
  },
  {
   "cell_type": "code",
   "execution_count": 47,
   "metadata": {},
   "outputs": [],
   "source": [
    "from sklearn.model_selection import train_test_split\n",
    "from sklearn.preprocessing import StandardScaler\n",
    "import torch\n",
    "# Features and target\n",
    "X = df.drop('No_show', axis=1)\n",
    "y = df['No_show'].values\n",
    "# Split data\n",
    "X_train, X_test, y_train, y_test = train_test_split(X, y, test_size=0.2, stratify=y, random_state=42)\n",
    "# Scale features\n",
    "scaler = StandardScaler()\n",
    "X_train = scaler.fit_transform(X_train)\n",
    "X_test = scaler.transform(X_test)\n",
    "# Compute positive class weight\n",
    "num_pos = (y_train==1).sum()\n",
    "num_neg = (y_train==0).sum()\n",
    "pos_weight = torch.tensor(num_neg/num_pos, dtype=torch.float32)"
   ]
  },
  {
   "cell_type": "code",
   "execution_count": 48,
   "id": "40136b42",
   "metadata": {},
   "outputs": [
    {
     "data": {
      "text/plain": [
       "15"
      ]
     },
     "execution_count": 48,
     "metadata": {},
     "output_type": "execute_result"
    }
   ],
   "source": [
    "X_train.shape[1]"
   ]
  },
  {
   "cell_type": "markdown",
   "id": "1a695864",
   "metadata": {},
   "source": [
    "### Timer decorator"
   ]
  },
  {
   "cell_type": "code",
   "execution_count": 49,
   "id": "e6aa650b",
   "metadata": {},
   "outputs": [],
   "source": [
    "import time\n",
    "def timer(func):\n",
    "    def wrapper(*args, **kwargs):\n",
    "        start = time.perf_counter()\n",
    "        result = func(*args, **kwargs)\n",
    "        end = time.perf_counter()\n",
    "        duration = end - start\n",
    "        if args and hasattr(args[0], '__dict__'):\n",
    "            setattr(args[0], f'{func.__name__}_time', duration)\n",
    "        print(f\"Function '{func.__name__}' took {duration:.4f} seconds\")\n",
    "        return result\n",
    "    return wrapper"
   ]
  },
  {
   "cell_type": "markdown",
   "metadata": {},
   "source": [
    "## Model Definition with Weighted Loss"
   ]
  },
  {
   "cell_type": "code",
   "execution_count": 50,
   "metadata": {},
   "outputs": [
    {
     "data": {
      "text/plain": [
       "NoShowNet(\n",
       "  (net): Sequential(\n",
       "    (0): Linear(in_features=15, out_features=64, bias=True)\n",
       "    (1): BatchNorm1d(64, eps=1e-05, momentum=0.1, affine=True, track_running_stats=True)\n",
       "    (2): ReLU()\n",
       "    (3): Dropout(p=0.5, inplace=False)\n",
       "    (4): Linear(in_features=64, out_features=32, bias=True)\n",
       "    (5): BatchNorm1d(32, eps=1e-05, momentum=0.1, affine=True, track_running_stats=True)\n",
       "    (6): ReLU()\n",
       "    (7): Dropout(p=0.5, inplace=False)\n",
       "    (8): Linear(in_features=32, out_features=1, bias=True)\n",
       "  )\n",
       ")"
      ]
     },
     "execution_count": 50,
     "metadata": {},
     "output_type": "execute_result"
    }
   ],
   "source": [
    "import torch.nn as nn\n",
    "import torch.optim as optim\n",
    "torch.manual_seed(42)\n",
    "input_dim = X_train.shape[1]\n",
    "class NoShowNet(nn.Module):\n",
    "    def __init__(self, dim):\n",
    "        super().__init__()\n",
    "        self.net = nn.Sequential(\n",
    "            nn.Linear(dim,64),\n",
    "            nn.BatchNorm1d(64), nn.ReLU(), nn.Dropout(0.5),\n",
    "            nn.Linear(64,32), nn.BatchNorm1d(32), nn.ReLU(), nn.Dropout(0.5),\n",
    "            nn.Linear(32,1)\n",
    "        ) # use of LLMs for finding out these different types of layer sructure\n",
    "    def forward(self, x):\n",
    "        return self.net(x).squeeze(1)\n",
    "model = NoShowNet(input_dim)\n",
    "criterion = nn.BCEWithLogitsLoss(pos_weight=pos_weight)\n",
    "optimizer = optim.Adam(model.parameters(), lr=1e-3)\n",
    "model"
   ]
  },
  {
   "cell_type": "markdown",
   "metadata": {},
   "source": [
    "## Preparing DataLoader"
   ]
  },
  {
   "cell_type": "code",
   "execution_count": 51,
   "metadata": {},
   "outputs": [],
   "source": [
    "from torch.utils.data import TensorDataset, DataLoader\n",
    "# Convert to tensors\n",
    "X_tr = torch.tensor(X_train, dtype=torch.float32)\n",
    "y_tr = torch.tensor(y_train, dtype=torch.float32)\n",
    "X_te = torch.tensor(X_test, dtype=torch.float32)\n",
    "y_te = torch.tensor(y_test, dtype=torch.float32)\n",
    "# DataLoader\n",
    "dataset = TensorDataset(X_tr, y_tr)\n",
    "loader = DataLoader(dataset, batch_size=256, shuffle=True)"
   ]
  },
  {
   "cell_type": "markdown",
   "metadata": {},
   "source": [
    "## Training Loop"
   ]
  },
  {
   "cell_type": "code",
   "execution_count": 52,
   "metadata": {},
   "outputs": [
    {
     "name": "stdout",
     "output_type": "stream",
     "text": [
      "Epoch 1/50 - Loss: 1.0741\n",
      "Epoch 2/50 - Loss: 1.0400\n",
      "Epoch 3/50 - Loss: 1.0247\n",
      "Epoch 4/50 - Loss: 1.0160\n",
      "Epoch 5/50 - Loss: 1.0111\n",
      "Epoch 6/50 - Loss: 1.0030\n",
      "Epoch 7/50 - Loss: 0.9993\n",
      "Epoch 8/50 - Loss: 0.9933\n",
      "Epoch 9/50 - Loss: 0.9906\n",
      "Epoch 10/50 - Loss: 0.9855\n",
      "Epoch 11/50 - Loss: 0.9838\n",
      "Epoch 12/50 - Loss: 0.9845\n",
      "Epoch 13/50 - Loss: 0.9833\n",
      "Epoch 14/50 - Loss: 0.9802\n",
      "Epoch 15/50 - Loss: 0.9782\n",
      "Epoch 16/50 - Loss: 0.9784\n",
      "Epoch 17/50 - Loss: 0.9784\n",
      "Epoch 18/50 - Loss: 0.9771\n",
      "Epoch 19/50 - Loss: 0.9774\n",
      "Epoch 20/50 - Loss: 0.9776\n",
      "Epoch 21/50 - Loss: 0.9770\n",
      "Epoch 22/50 - Loss: 0.9747\n",
      "Epoch 23/50 - Loss: 0.9765\n",
      "Epoch 24/50 - Loss: 0.9752\n",
      "Epoch 25/50 - Loss: 0.9741\n",
      "Epoch 26/50 - Loss: 0.9777\n",
      "Epoch 27/50 - Loss: 0.9739\n",
      "Epoch 28/50 - Loss: 0.9748\n",
      "Epoch 29/50 - Loss: 0.9751\n",
      "Epoch 30/50 - Loss: 0.9749\n",
      "Epoch 31/50 - Loss: 0.9738\n",
      "Epoch 32/50 - Loss: 0.9723\n",
      "Epoch 33/50 - Loss: 0.9743\n",
      "Epoch 34/50 - Loss: 0.9754\n",
      "Epoch 35/50 - Loss: 0.9721\n",
      "Epoch 36/50 - Loss: 0.9733\n",
      "Epoch 37/50 - Loss: 0.9736\n",
      "Epoch 38/50 - Loss: 0.9746\n",
      "Epoch 39/50 - Loss: 0.9713\n",
      "Epoch 40/50 - Loss: 0.9725\n",
      "Epoch 41/50 - Loss: 0.9716\n",
      "Epoch 42/50 - Loss: 0.9714\n",
      "Epoch 43/50 - Loss: 0.9721\n",
      "Epoch 44/50 - Loss: 0.9735\n",
      "Epoch 45/50 - Loss: 0.9726\n",
      "Epoch 46/50 - Loss: 0.9723\n",
      "Epoch 47/50 - Loss: 0.9717\n",
      "Epoch 48/50 - Loss: 0.9721\n",
      "Epoch 49/50 - Loss: 0.9715\n",
      "Epoch 50/50 - Loss: 0.9728\n",
      "Function 'train_loop' took 107.7186 seconds\n"
     ]
    }
   ],
   "source": [
    "epochs = 50\n",
    "\n",
    "@timer\n",
    "def train_loop():\n",
    "    for epoch in range(epochs):\n",
    "        model.train()\n",
    "        total_loss = 0.0\n",
    "        for xb, yb in loader:\n",
    "            optimizer.zero_grad()\n",
    "            out = model(xb)\n",
    "            loss = criterion(out, yb)\n",
    "            loss.backward()\n",
    "            optimizer.step()\n",
    "            total_loss += loss.item()*xb.size(0)\n",
    "        print(f'Epoch {epoch+1}/{epochs} - Loss: {total_loss/len(dataset):.4f}')\n",
    "\n",
    "train_loop()"
   ]
  },
  {
   "cell_type": "markdown",
   "metadata": {},
   "source": [
    "## Evaluation with Dynamic Threshold Selection"
   ]
  },
  {
   "cell_type": "code",
   "execution_count": 53,
   "metadata": {},
   "outputs": [
    {
     "name": "stdout",
     "output_type": "stream",
     "text": [
      "Best threshold: 0.513, F1: 0.443\n",
      "Accuracy: 0.5919022845510066\n",
      "Precision: 0.30564557393825686\n",
      "Recall: 0.8030472776159534\n",
      "F1 Score: 0.44276978195070726\n",
      "PR AUC: 0.35595558885665346\n",
      "Confusion matrix:  [[9500 8142]\n",
      " [ 879 3584]]\n"
     ]
    }
   ],
   "source": [
    "from sklearn.metrics import precision_recall_curve, accuracy_score, precision_score, recall_score, f1_score, average_precision_score, confusion_matrix\n",
    "import numpy as np\n",
    "model.eval()\n",
    "with torch.no_grad():\n",
    "    logits = model(X_te)\n",
    "    probs = torch.sigmoid(logits).numpy()\n",
    "prec, rec, thr = precision_recall_curve(y_test, probs)\n",
    "f1s = 2*(prec*rec)/(prec+rec+1e-8)\n",
    "best = np.argmax(f1s)\n",
    "best_thr = thr[best] if best < len(thr) else 0.5\n",
    "print(f'Best threshold: {best_thr:.3f}, F1: {f1s[best]:.3f}')\n",
    "preds = (probs>=best_thr).astype(int)\n",
    "print('Accuracy:', accuracy_score(y_test, preds))\n",
    "print('Precision:', precision_score(y_test, preds))\n",
    "print('Recall:', recall_score(y_test, preds))\n",
    "print('F1 Score:', f1_score(y_test, preds))\n",
    "print('PR AUC:', average_precision_score(y_test, probs))\n",
    "\n",
    "print('Confusion matrix: ', confusion_matrix(y_test, preds))"
   ]
  }
 ],
 "metadata": {
  "kernelspec": {
   "display_name": ".venv",
   "language": "python",
   "name": "python3"
  },
  "language_info": {
   "codemirror_mode": {
    "name": "ipython",
    "version": 3
   },
   "file_extension": ".py",
   "mimetype": "text/x-python",
   "name": "python",
   "nbconvert_exporter": "python",
   "pygments_lexer": "ipython3",
   "version": "3.13.3"
  }
 },
 "nbformat": 4,
 "nbformat_minor": 5
}
