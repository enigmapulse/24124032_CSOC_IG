{
 "cells": [
  {
   "cell_type": "code",
   "execution_count": 7,
   "id": "f80cbc5a",
   "metadata": {},
   "outputs": [],
   "source": [
    "import pandas as pd\n",
    "import time\n",
    "from sklearn.model_selection import train_test_split\n",
    "from sklearn.metrics import r2_score, root_mean_squared_error, mean_absolute_error\n",
    "data = pd.read_csv('../Data/housing.csv')"
   ]
  },
  {
   "cell_type": "markdown",
   "id": "9ae77ca7",
   "metadata": {},
   "source": [
    "### Extracting required data from the dataset"
   ]
  },
  {
   "cell_type": "code",
   "execution_count": 8,
   "id": "385499f7",
   "metadata": {},
   "outputs": [],
   "source": [
    "data = pd.get_dummies(data, columns=[\"ocean_proximity\"])\n",
    "data[\"bedrooms_by_totalrooms\"] = data[\"total_bedrooms\"]/data[\"total_rooms\"]\n",
    "data = data[data[\"median_house_value\"] < 500001] # to remove all capped data\n",
    "data = data.dropna(subset=[\"total_bedrooms\"])  #dropping all NA values\n",
    "\n",
    "# Refer EDA notebook for the reasoning behind choosing these features\n",
    "\n",
    "X = data[[\"median_income\", \"ocean_proximity_<1H OCEAN\", \"ocean_proximity_INLAND\", \"bedrooms_by_totalrooms\"]]\n",
    "y = data[\"median_house_value\"]\n",
    "X = X.fillna(X.mean())\n",
    "y = y.fillna(y.mean())"
   ]
  },
  {
   "cell_type": "code",
   "execution_count": 9,
   "id": "54bcdf2b",
   "metadata": {},
   "outputs": [
    {
     "data": {
      "text/html": [
       "<div>\n",
       "<style scoped>\n",
       "    .dataframe tbody tr th:only-of-type {\n",
       "        vertical-align: middle;\n",
       "    }\n",
       "\n",
       "    .dataframe tbody tr th {\n",
       "        vertical-align: top;\n",
       "    }\n",
       "\n",
       "    .dataframe thead th {\n",
       "        text-align: right;\n",
       "    }\n",
       "</style>\n",
       "<table border=\"1\" class=\"dataframe\">\n",
       "  <thead>\n",
       "    <tr style=\"text-align: right;\">\n",
       "      <th></th>\n",
       "      <th>median_income</th>\n",
       "      <th>ocean_proximity_&lt;1H OCEAN</th>\n",
       "      <th>ocean_proximity_INLAND</th>\n",
       "      <th>bedrooms_by_totalrooms</th>\n",
       "    </tr>\n",
       "  </thead>\n",
       "  <tbody>\n",
       "    <tr>\n",
       "      <th>5148</th>\n",
       "      <td>-1.606564</td>\n",
       "      <td>1.137598</td>\n",
       "      <td>-0.704397</td>\n",
       "      <td>0.958457</td>\n",
       "    </tr>\n",
       "    <tr>\n",
       "      <th>1378</th>\n",
       "      <td>-0.013762</td>\n",
       "      <td>-0.878989</td>\n",
       "      <td>-0.704397</td>\n",
       "      <td>-0.416681</td>\n",
       "    </tr>\n",
       "    <tr>\n",
       "      <th>10567</th>\n",
       "      <td>0.282519</td>\n",
       "      <td>1.137598</td>\n",
       "      <td>-0.704397</td>\n",
       "      <td>-0.134610</td>\n",
       "    </tr>\n",
       "    <tr>\n",
       "      <th>16253</th>\n",
       "      <td>-0.709042</td>\n",
       "      <td>-0.878989</td>\n",
       "      <td>1.419563</td>\n",
       "      <td>-0.341646</td>\n",
       "    </tr>\n",
       "    <tr>\n",
       "      <th>3920</th>\n",
       "      <td>0.319714</td>\n",
       "      <td>1.137598</td>\n",
       "      <td>-0.704397</td>\n",
       "      <td>-0.272353</td>\n",
       "    </tr>\n",
       "  </tbody>\n",
       "</table>\n",
       "</div>"
      ],
      "text/plain": [
       "       median_income  ocean_proximity_<1H OCEAN  ocean_proximity_INLAND  \\\n",
       "5148       -1.606564                   1.137598               -0.704397   \n",
       "1378       -0.013762                  -0.878989               -0.704397   \n",
       "10567       0.282519                   1.137598               -0.704397   \n",
       "16253      -0.709042                  -0.878989                1.419563   \n",
       "3920        0.319714                   1.137598               -0.704397   \n",
       "\n",
       "       bedrooms_by_totalrooms  \n",
       "5148                 0.958457  \n",
       "1378                -0.416681  \n",
       "10567               -0.134610  \n",
       "16253               -0.341646  \n",
       "3920                -0.272353  "
      ]
     },
     "execution_count": 9,
     "metadata": {},
     "output_type": "execute_result"
    }
   ],
   "source": [
    "X_train, X_test, y_train, y_test = train_test_split(\n",
    "    X, y, test_size=0.2, random_state=42\n",
    ")\n",
    "means = X_train.mean()\n",
    "stds = X_train.std()\n",
    "\n",
    "X_train_scaled = (X_train - means) / stds\n",
    "X_test_scaled = (X_test - means) / stds\n",
    "X_train_scaled.head()"
   ]
  },
  {
   "cell_type": "markdown",
   "id": "26759a46",
   "metadata": {},
   "source": [
    "### Linear Regression Model"
   ]
  },
  {
   "cell_type": "code",
   "execution_count": 10,
   "id": "ba28b67c",
   "metadata": {},
   "outputs": [
    {
     "name": "stdout",
     "output_type": "stream",
     "text": [
      "Time taken to fit is : 0.006048391000149422\n"
     ]
    }
   ],
   "source": [
    "from sklearn.linear_model import LinearRegression\n",
    "model = LinearRegression()\n",
    "\n",
    "start = time.perf_counter()\n",
    "model.fit(X_train_scaled, y_train)\n",
    "fitting_time = time.perf_counter() - start\n",
    "\n",
    "print(f\"Time taken to fit is : {fitting_time}\")"
   ]
  },
  {
   "cell_type": "code",
   "execution_count": 11,
   "id": "533a2ee1",
   "metadata": {},
   "outputs": [],
   "source": [
    "y_pred = model.predict(X_test_scaled)"
   ]
  },
  {
   "cell_type": "code",
   "execution_count": 12,
   "id": "3aed0ec9",
   "metadata": {},
   "outputs": [
    {
     "name": "stdout",
     "output_type": "stream",
     "text": [
      "RMSE: 63837.68725044186\n",
      "R² Score: 0.5792233480491736\n",
      "MAE: 46669.767377054966\n"
     ]
    }
   ],
   "source": [
    "print(\"RMSE:\", root_mean_squared_error(y_test, y_pred))\n",
    "print(\"R² Score:\", r2_score(y_test, y_pred))\n",
    "print(\"MAE:\", mean_absolute_error(y_test, y_pred))"
   ]
  }
 ],
 "metadata": {
  "kernelspec": {
   "display_name": ".venv",
   "language": "python",
   "name": "python3"
  },
  "language_info": {
   "codemirror_mode": {
    "name": "ipython",
    "version": 3
   },
   "file_extension": ".py",
   "mimetype": "text/x-python",
   "name": "python",
   "nbconvert_exporter": "python",
   "pygments_lexer": "ipython3",
   "version": "3.13.3"
  }
 },
 "nbformat": 4,
 "nbformat_minor": 5
}
